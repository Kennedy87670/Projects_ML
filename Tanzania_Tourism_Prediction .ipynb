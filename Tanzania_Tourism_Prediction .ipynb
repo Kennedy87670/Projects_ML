{
 "cells": [
  {
   "cell_type": "markdown",
   "id": "39cd5f36",
   "metadata": {},
   "source": [
    "## Tanzania Tourism Prediction by Pycon Tanzania Community"
   ]
  },
  {
   "cell_type": "markdown",
   "id": "455cd596",
   "metadata": {},
   "source": [
    "## Problem Definition\n",
    "The objective of this hackathon is to develop a machine learning model to predict what a tourist will spend when visiting Tanzania.\n",
    "The model can be used by different tour operators and the Tanzania Tourism Board to automatically\n",
    "help tourists across the world estimate their expenditure before visiting Tanzania.\n",
    "\n",
    "## Data\n",
    "The data is downloaded from zindi: https://zindi.africa/competitions/tanzania-tourism-prediction\n",
    "The dataset describes 6476 rows of up-to-date information on tourist expenditure collected by the National Bureau of Statistics (NBS) in Tanzania.\n",
    "The dataset was collected to gain a better understanding of the status of the tourism sector and provide an instrument that will enable sector growth.\n",
    "\n",
    "Your goal is to accurately predict tourist expenditure when visiting Tanzania.\n",
    "\n",
    "## Evaluation\n",
    "The evaluation metric for this competition is Mean Absolute Error.\n",
    "\n",
    "For every row in the dataset, submission files should contain 2 columns: test_id and total_cost\n",
    "\n",
    "## Features\n",
    "\n",
    "ID,\tcountry, age_group,\ttravel_with, total_female,\ttotal_male,\tpurpose, main_activity,\tinfo_source, tour_arrangement,\tpackage_transport_int,\n",
    "package_accomodation, package_food, package_transport_tz, package_sightseeing, package_guided_tour,\tpackage_insurance,\t\n",
    "night_mainland,\tnight_zanzibar,\tpayment_mode,\tfirst_trip_tz,\tmost_impressing and\ttotal_cost\n"
   ]
  },
  {
   "cell_type": "code",
   "execution_count": null,
   "id": "b6365919",
   "metadata": {},
   "outputs": [],
   "source": []
  },
  {
   "cell_type": "code",
   "execution_count": null,
   "id": "f48048da",
   "metadata": {},
   "outputs": [],
   "source": []
  },
  {
   "cell_type": "code",
   "execution_count": null,
   "id": "08ffcc58",
   "metadata": {},
   "outputs": [],
   "source": []
  },
  {
   "cell_type": "code",
   "execution_count": null,
   "id": "65e94e8d",
   "metadata": {},
   "outputs": [],
   "source": []
  }
 ],
 "metadata": {
  "kernelspec": {
   "display_name": "Python 3 (ipykernel)",
   "language": "python",
   "name": "python3"
  },
  "language_info": {
   "codemirror_mode": {
    "name": "ipython",
    "version": 3
   },
   "file_extension": ".py",
   "mimetype": "text/x-python",
   "name": "python",
   "nbconvert_exporter": "python",
   "pygments_lexer": "ipython3",
   "version": "3.9.7"
  }
 },
 "nbformat": 4,
 "nbformat_minor": 5
}
